{
 "cells": [
  {
   "cell_type": "markdown",
   "id": "e626fcd2",
   "metadata": {},
   "source": [
    "# Introduction"
   ]
  },
  {
   "cell_type": "markdown",
   "id": "d0eb3637",
   "metadata": {},
   "source": [
    "Hello and welcome to our data science series! today, we're going to embark on a journey through the foundational aspects of statistics using Python. Whether you're a beginner or brushing up your skills, this series will bolster your data science toolkit.\"\n"
   ]
  },
  {
   "cell_type": "markdown",
   "id": "bd15c5a9",
   "metadata": {},
   "source": [
    "# Integral Relationship"
   ]
  },
  {
   "cell_type": "markdown",
   "id": "55a44af5",
   "metadata": {},
   "source": [
    "Before we dive into statistics, let's understand its role in data science. Data science is like a puzzle where statistics is a crucial piece. It's the science of learning from data, and statistics provides the methods for making sense of and interpreting this data. Without statistics, data science can't provide actionable insights. Statistics helps in designing data collection experiments, making predictions from data, and validating those predictions."
   ]
  },
  {
   "cell_type": "markdown",
   "id": "f61c6f8a",
   "metadata": {},
   "source": [
    "# What is Statistics?"
   ]
  },
  {
   "cell_type": "markdown",
   "id": "5864659a",
   "metadata": {},
   "source": [
    "At its core, statistics is about understanding and interpreting data. It's a crucial pillar in data science, helping us to extract meaningful insights from vast amounts of information. Statistics guides us in making informed decisions based on data analysis."
   ]
  },
  {
   "cell_type": "markdown",
   "id": "0b3f94b2",
   "metadata": {},
   "source": [
    "# Types of Statistics"
   ]
  },
  {
   "cell_type": "markdown",
   "id": "820d2fb3",
   "metadata": {},
   "source": [
    "Statistics is broadly categorized into two types. Descriptive statistics, which summarize and describe the features of a dataset, like calculating the average score in a test. And inferential statistics, which involves making predictions or inferences about a larger population based on a sample. This is like predicting election results using pre-election surveys."
   ]
  },
  {
   "cell_type": "markdown",
   "id": "f2f77e01",
   "metadata": {},
   "source": [
    "# Python and Libraries"
   ]
  },
  {
   "cell_type": "markdown",
   "id": "cfd7c8fd",
   "metadata": {},
   "source": [
    "Python is a versatile and widely-used programming language in data science, thanks to its simplicity and powerful libraries. Today, we'll focus on two such libraries: NumPy for numerical computations and pandas for data manipulation. Make sure you have Python installed on your system, and you can install these libraries using pip. Let’s get our environment set up."
   ]
  },
  {
   "cell_type": "markdown",
   "id": "a7158b7f",
   "metadata": {},
   "source": [
    "# Practical Example"
   ]
  },
  {
   "cell_type": "markdown",
   "id": "e0552b6a",
   "metadata": {},
   "source": [
    "Let's jump into a practical example. We'll use the famous Iris dataset, which contains measurements of iris flowers. Our goal is to understand this dataset better using descriptive statistics."
   ]
  },
  {
   "cell_type": "markdown",
   "id": "578356ae",
   "metadata": {},
   "source": [
    "### Loading Dataset using pandas\n"
   ]
  },
  {
   "cell_type": "code",
   "execution_count": 1,
   "id": "616ff5b2",
   "metadata": {},
   "outputs": [],
   "source": [
    "import pandas as pd"
   ]
  },
  {
   "cell_type": "code",
   "execution_count": 6,
   "id": "7ca43927",
   "metadata": {},
   "outputs": [],
   "source": [
    "iris_data = pd.read_csv('iris.csv')"
   ]
  },
  {
   "cell_type": "code",
   "execution_count": 7,
   "id": "3b09bd46",
   "metadata": {},
   "outputs": [
    {
     "name": "stdout",
     "output_type": "stream",
     "text": [
      "   sepal length (cm)  sepal width (cm)  petal length (cm)  petal width (cm)  \\\n",
      "0                5.1               3.5                1.4               0.2   \n",
      "1                4.9               3.0                1.4               0.2   \n",
      "2                4.7               3.2                1.3               0.2   \n",
      "3                4.6               3.1                1.5               0.2   \n",
      "4                5.0               3.6                1.4               0.2   \n",
      "\n",
      "  species  \n",
      "0  setosa  \n",
      "1  setosa  \n",
      "2  setosa  \n",
      "3  setosa  \n",
      "4  setosa  \n"
     ]
    }
   ],
   "source": [
    "print(iris_data.head())"
   ]
  },
  {
   "cell_type": "markdown",
   "id": "574e4426",
   "metadata": {},
   "source": [
    "### Calculating Mean, Median, and Mode"
   ]
  },
  {
   "cell_type": "markdown",
   "id": "31e02d2d",
   "metadata": {},
   "source": [
    "Let's calculate the mean, median, and mode for the sepal length of the iris flowers."
   ]
  },
  {
   "cell_type": "code",
   "execution_count": 9,
   "id": "25e8727b",
   "metadata": {},
   "outputs": [],
   "source": [
    "mean_sepal_length = iris_data['sepal length (cm)'].mean() "
   ]
  },
  {
   "cell_type": "code",
   "execution_count": 10,
   "id": "8be18426",
   "metadata": {},
   "outputs": [],
   "source": [
    "median_sepal_length = iris_data['sepal length (cm)'].median() "
   ]
  },
  {
   "cell_type": "code",
   "execution_count": 11,
   "id": "ef050776",
   "metadata": {},
   "outputs": [],
   "source": [
    "mode_sepal_length = iris_data['sepal length (cm)'].mode()[0] \n"
   ]
  },
  {
   "cell_type": "code",
   "execution_count": 12,
   "id": "bc4dac82",
   "metadata": {},
   "outputs": [
    {
     "name": "stdout",
     "output_type": "stream",
     "text": [
      "Mean Sepal Length: 5.843333333333334\n",
      "Median Sepal Length: 5.8\n",
      "Mode Sepal Length: 5.0\n"
     ]
    }
   ],
   "source": [
    "print(f\"Mean Sepal Length: {mean_sepal_length}\") \n",
    "print(f\"Median Sepal Length: {median_sepal_length}\") \n",
    "print(f\"Mode Sepal Length: {mode_sepal_length}\")"
   ]
  },
  {
   "cell_type": "markdown",
   "id": "375f20cc",
   "metadata": {},
   "source": [
    "### Visualizing Data with Histogram"
   ]
  },
  {
   "cell_type": "markdown",
   "id": "ca1af718",
   "metadata": {},
   "source": [
    "Now, let's visualize this data. We'll create a histogram of the sepal length using Matplotlib."
   ]
  },
  {
   "cell_type": "code",
   "execution_count": 13,
   "id": "a1045e97",
   "metadata": {},
   "outputs": [],
   "source": [
    "import matplotlib.pyplot as plt "
   ]
  },
  {
   "cell_type": "code",
   "execution_count": 17,
   "id": "454fe336",
   "metadata": {},
   "outputs": [
    {
     "data": {
      "image/png": "[encoded data removed]",
      "text/plain": [
       "<Figure size 640x480 with 1 Axes>"
      ]
     },
     "metadata": {},
     "output_type": "display_data"
    }
   ],
   "source": [
    "iris_data['sepal length (cm)'].hist()\n",
    "plt.title('Sepal Length Distribution')\n",
    "plt.xlabel('Sepal Length (cm)')\n",
    "plt.ylabel('Frequency') \n",
    "plt.show()"
   ]
  },
  {
   "cell_type": "markdown",
   "id": "2df82f3a",
   "metadata": {},
   "source": [
    "To recap, today we've covered the basics of statistics and how they're used in data science. We've also seen how to use Python, along with pandas and Matplotlib, to perform basic descriptive statistics and data visualization."
   ]
  },
  {
   "cell_type": "markdown",
   "id": "3f51c90d",
   "metadata": {},
   "source": [
    "In our next video, we'll delve into probability basics and their applications in statistics for data science. This will set the stage for more complex analyses, including hypothesis testing and regression models."
   ]
  },
  {
   "cell_type": "markdown",
   "id": "30544f5b",
   "metadata": {},
   "source": [
    "f you found this video helpful, please hit the like button, subscribe, and share it with others who might be interested. Don't forget to practice what you've learned with your datasets. Feel free to share your queries or insights in the comments below."
   ]
  },
  {
   "cell_type": "markdown",
   "id": "094713d6",
   "metadata": {},
   "source": [
    "## Thanks for watching! Check out our other videos . Stay curious, and keep learning!"
   ]
  },
  {
   "cell_type": "code",
   "execution_count": null,
   "id": "f54c79ae",
   "metadata": {},
   "outputs": [],
   "source": []
  }
 ],
 "metadata": {
  "kernelspec": {
   "display_name": "Python 3 (ipykernel)",
   "language": "python",
   "name": "python3"
  },
  "language_info": {
   "codemirror_mode": {
    "name": "ipython",
    "version": 3
   },
   "file_extension": ".py",
   "mimetype": "text/x-python",
   "name": "python",
   "nbconvert_exporter": "python",
   "pygments_lexer": "ipython3",
   "version": "3.11.2"
  }
 },
 "nbformat": 4,
 "nbformat_minor": 5
}
